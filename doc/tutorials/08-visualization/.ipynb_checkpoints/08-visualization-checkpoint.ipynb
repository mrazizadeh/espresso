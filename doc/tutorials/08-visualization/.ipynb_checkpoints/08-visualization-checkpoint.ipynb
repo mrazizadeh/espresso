{
 "cells": [
  {
   "cell_type": "markdown",
   "metadata": {},
   "source": [
    "# Tutorial 8: Visualization"
   ]
  },
  {
   "cell_type": "markdown",
   "metadata": {},
   "source": [
    "## Introduction\n",
    "\n",
    "When you are running a simulation, it is often useful to see what is going on\n",
    "by visualizing particles in a 3D view or by plotting observables over time.\n",
    "That way, you can easily determine things like whether your choice of parameters\n",
    "has led to a stable simulation or whether your system has equilibrated. You may\n",
    "even be able to do your complete data analysis in real time as the simulation progresses.\n",
    "\n",
    "Thanks to **ESPResSo**'s Python interface, we can make use of standard libraries\n",
    "like Mayavi or OpenGL (for interactive 3D views) and Matplotlib (for line graphs)\n",
    "for this purpose. We will also use NumPy, which both of these libraries depend on,\n",
    "to store data and perform some basic analysis."
   ]
  },
  {
   "cell_type": "markdown",
   "metadata": {},
   "source": [
    "## Simulation\n",
    "\n",
    "First, we need to set up a simulation.\n",
    "We will simulate a simple Lennard-Jones liquid."
   ]
  },
  {
   "cell_type": "code",
   "execution_count": 3,
   "metadata": {},
   "outputs": [
    {
     "ename": "RuntimeError",
     "evalue": "You can only have one instance of the system class at a time.",
     "output_type": "error",
     "traceback": [
      "\u001b[0;31m---------------------------------------------------------------------------\u001b[0m",
      "\u001b[0;31mRuntimeError\u001b[0m                              Traceback (most recent call last)",
      "\u001b[0;32m<ipython-input-3-d5415f2bc148>\u001b[0m in \u001b[0;36m<module>\u001b[0;34m\u001b[0m\n\u001b[1;32m     16\u001b[0m \u001b[0;34m\u001b[0m\u001b[0m\n\u001b[1;32m     17\u001b[0m \u001b[0;31m# integration parameters\u001b[0m\u001b[0;34m\u001b[0m\u001b[0;34m\u001b[0m\u001b[0;34m\u001b[0m\u001b[0m\n\u001b[0;32m---> 18\u001b[0;31m \u001b[0msystem\u001b[0m \u001b[0;34m=\u001b[0m \u001b[0mespressomd\u001b[0m\u001b[0;34m.\u001b[0m\u001b[0mSystem\u001b[0m\u001b[0;34m(\u001b[0m\u001b[0mbox_l\u001b[0m\u001b[0;34m=\u001b[0m\u001b[0;34m[\u001b[0m\u001b[0mbox_l\u001b[0m\u001b[0;34m,\u001b[0m \u001b[0mbox_l\u001b[0m\u001b[0;34m,\u001b[0m \u001b[0mbox_l\u001b[0m\u001b[0;34m]\u001b[0m\u001b[0;34m)\u001b[0m\u001b[0;34m\u001b[0m\u001b[0;34m\u001b[0m\u001b[0m\n\u001b[0m\u001b[1;32m     19\u001b[0m \u001b[0msystem\u001b[0m\u001b[0;34m.\u001b[0m\u001b[0mseed\u001b[0m \u001b[0;34m=\u001b[0m \u001b[0msystem\u001b[0m\u001b[0;34m.\u001b[0m\u001b[0mcell_system\u001b[0m\u001b[0;34m.\u001b[0m\u001b[0mget_state\u001b[0m\u001b[0;34m(\u001b[0m\u001b[0;34m)\u001b[0m\u001b[0;34m[\u001b[0m\u001b[0;34m'n_nodes'\u001b[0m\u001b[0;34m]\u001b[0m \u001b[0;34m*\u001b[0m \u001b[0;34m[\u001b[0m\u001b[0;36m1234\u001b[0m\u001b[0;34m]\u001b[0m\u001b[0;34m\u001b[0m\u001b[0;34m\u001b[0m\u001b[0m\n\u001b[1;32m     20\u001b[0m \u001b[0msystem\u001b[0m\u001b[0;34m.\u001b[0m\u001b[0mtime_step\u001b[0m \u001b[0;34m=\u001b[0m \u001b[0;36m0.0001\u001b[0m\u001b[0;34m\u001b[0m\u001b[0;34m\u001b[0m\u001b[0m\n",
      "\u001b[0;32msystem.pyx\u001b[0m in \u001b[0;36mespressomd.system.System.__init__\u001b[0;34m()\u001b[0m\n",
      "\u001b[0;31mRuntimeError\u001b[0m: You can only have one instance of the system class at a time."
     ]
    }
   ],
   "source": [
    "from matplotlib import pyplot\n",
    "import espressomd\n",
    "import numpy\n",
    "\n",
    "espressomd.assert_features(\"LENNARD_JONES\")\n",
    "\n",
    "# system parameters (10000 particles)\n",
    "box_l = 10.7437\n",
    "density = 0.7\n",
    "\n",
    "# interaction parameters (repulsive Lennard-Jones)\n",
    "lj_eps = 1.0\n",
    "lj_sig = 1.0\n",
    "lj_cut = 1.12246\n",
    "lj_cap = 20\n",
    "\n",
    "# integration parameters\n",
    "system = espressomd.System(box_l=[box_l, box_l, box_l])\n",
    "system.seed = system.cell_system.get_state()['n_nodes'] * [1234]\n",
    "system.time_step = 0.0001\n",
    "system.cell_system.skin = 0.4\n",
    "system.thermostat.set_langevin(kT=1.0, gamma=1.0, seed=42)\n",
    "\n",
    "# warmup integration (with capped LJ potential)\n",
    "warm_steps = 100\n",
    "warm_n_times = 30\n",
    "# do the warmup until the particles have at least the distance min_dist\n",
    "min_dist = 0.9\n",
    "\n",
    "# integration\n",
    "int_steps = 1000\n",
    "int_n_times = 100\n",
    "\n",
    "#############################################################\n",
    "#  Setup System                                             #\n",
    "#############################################################\n",
    "\n",
    "# interaction setup\n",
    "system.non_bonded_inter[0, 0].lennard_jones.set_params(\n",
    "    epsilon=lj_eps, sigma=lj_sig,\n",
    "    cutoff=lj_cut, shift=\"auto\")\n",
    "system.force_cap = lj_cap\n",
    "\n",
    "# particle setup\n",
    "volume = box_l * box_l * box_l\n",
    "n_part = int(volume * density)\n",
    "for i in range(n_part):\n",
    "    system.part.add(id=i, pos=numpy.random.random(3) * system.box_l)\n",
    "\n",
    "system.analysis.dist_to(0)\n",
    "act_min_dist = system.analysis.min_dist()\n",
    "\n",
    "#############################################################\n",
    "#  Warmup Integration                                       #\n",
    "#############################################################\n",
    "\n",
    "# set LJ cap\n",
    "lj_cap = 20\n",
    "system.force_cap = lj_cap\n",
    "\n",
    "# warmup integration loop\n",
    "i = 0\n",
    "while (i < warm_n_times and act_min_dist < min_dist):\n",
    "    system.integrator.run(warm_steps)\n",
    "    # warmup criterion\n",
    "    act_min_dist = system.analysis.min_dist()\n",
    "    i += 1\n",
    "    # increase LJ cap\n",
    "    lj_cap = lj_cap + 10\n",
    "    system.force_cap = lj_cap\n",
    "\n",
    "#############################################################\n",
    "#      Integration                                          #\n",
    "#############################################################\n",
    "\n",
    "# remove force capping\n",
    "lj_cap = 0\n",
    "system.force_cap = lj_cap\n",
    "\n",
    "def main():\n",
    "    for i in range(int_n_times):\n",
    "        print(\"\\rrun %d at time=%.0f \" % (i, system.time), end='')\n",
    "        system.integrator.run(int_steps)\n",
    "    print('\\rSimulation complete')\n",
    "\n",
    "main()"
   ]
  },
  {
   "cell_type": "markdown",
   "metadata": {},
   "source": [
    "## Live plotting\n",
    "\n",
    "Let's have a look at the total energy of the simulation. We can determine the\n",
    "individual energies in the system using <tt>system.analysis.energy()</tt>.\n",
    "We will adapt the <tt>main()</tt> function to store the total energy at each\n",
    "integration run into a NumPy array. We will also create a function to draw a\n",
    "plot after each integration run."
   ]
  },
  {
   "cell_type": "code",
   "execution_count": 4,
   "metadata": {
    "scrolled": false
   },
   "outputs": [
    {
     "data": {
      "image/png": "[encoded data removed]",
      "text/plain": [
       "<Figure size 432x288 with 1 Axes>"
      ]
     },
     "metadata": {
      "needs_background": "light"
     },
     "output_type": "display_data"
    }
   ],
   "source": [
    "matplotlib_notebook = True  # toggle this off when outside IPython/Jupyter\n",
    "\n",
    "# setup matplotlib canvas\n",
    "pyplot.xlabel(\"Time\")\n",
    "pyplot.ylabel(\"Energy\")\n",
    "plot, = pyplot.plot([0], [0])\n",
    "if matplotlib_notebook:\n",
    "    from IPython import display\n",
    "else:\n",
    "    pyplot.show(block=False)\n",
    "\n",
    "# setup matplotlib update function\n",
    "current_time = -1\n",
    "def update_plot():\n",
    "    i = current_time\n",
    "    if i < 3:\n",
    "        return None\n",
    "    plot.set_xdata(energies[:i + 1, 0])\n",
    "    plot.set_ydata(energies[:i + 1, 1])\n",
    "    pyplot.xlim(0, energies[i, 0])\n",
    "    pyplot.ylim(energies[:i + 1, 1].min(), energies[:i + 1, 1].max())\n",
    "    # refresh matplotlib GUI\n",
    "    if matplotlib_notebook:\n",
    "        display.clear_output(wait=True)\n",
    "        display.display(pyplot.gcf())\n",
    "    else:\n",
    "        pyplot.draw()\n",
    "        pyplot.pause(0.01)\n",
    "\n",
    "# re-define the main() function\n",
    "def main():\n",
    "    global current_time\n",
    "    for i in range(int_n_times):\n",
    "        system.integrator.run(int_steps)\n",
    "        energies[i] = (system.time, system.analysis.energy()['total'])\n",
    "        current_time = i\n",
    "        update_plot()\n",
    "    if matplotlib_notebook:\n",
    "        display.clear_output(wait=True)\n",
    "\n",
    "system.time = 0  # reset system timer\n",
    "energies = numpy.zeros((int_n_times, 2))\n",
    "main()\n",
    "\n",
    "if not matplotlib_notebook:\n",
    "    pyplot.close()"
   ]
  },
  {
   "cell_type": "markdown",
   "metadata": {},
   "source": [
    "## Live visualization and plotting\n",
    "\n",
    "To interact with a live visualization, we need to move the main integration loop into a secondary thread and run the visualizer in the main thread (note that visualization or plotting cannot be run in secondary threads). First, choose a visualizer:"
   ]
  },
  {
   "cell_type": "code",
   "execution_count": null,
   "metadata": {},
   "outputs": [],
   "source": [
    "from espressomd import visualization\n",
    "from threading import Thread\n",
    "\n",
    "visualizer = visualization.openGLLive(system)\n",
    "# alternative: visualization.mayaviLive(system)"
   ]
  },
  {
   "cell_type": "markdown",
   "metadata": {},
   "source": [
    "Then, re-define the <tt>main()</tt> function to run the visualizer:"
   ]
  },
  {
   "cell_type": "code",
   "execution_count": null,
   "metadata": {},
   "outputs": [],
   "source": [
    "def main():\n",
    "    global current_time\n",
    "    for i in range(int_n_times):\n",
    "        system.integrator.run(int_steps)\n",
    "        energies[i] = (system.time, system.analysis.energy()['total'])\n",
    "        current_time = i\n",
    "        visualizer.update()\n",
    "\n",
    "system.time = 0  # reset system timer"
   ]
  },
  {
   "cell_type": "markdown",
   "metadata": {},
   "source": [
    "Next, create a secondary thread for the <tt>main()</tt> function. However,\n",
    "as we now have multiple threads, and the first thread is already used by\n",
    "the visualizer, we cannot call <tt>update_plot()</tt> from\n",
    "the <tt>main()</tt> anymore.\n",
    "The solution is to register the <tt>update_plot()</tt> function as a\n",
    "callback of the visualizer:"
   ]
  },
  {
   "cell_type": "code",
   "execution_count": null,
   "metadata": {},
   "outputs": [],
   "source": [
    "# setup new matplotlib canvas\n",
    "if matplotlib_notebook:\n",
    "    pyplot.xlabel(\"Time\")\n",
    "    pyplot.ylabel(\"Energy\")\n",
    "    plot, = pyplot.plot([0], [0])\n",
    "\n",
    "# execute main() in a secondary thread\n",
    "t = Thread(target=main)\n",
    "t.daemon = True\n",
    "t.start()\n",
    "\n",
    "# execute the visualizer in the main thread\n",
    "visualizer.register_callback(update_plot, interval=int_steps // 2)\n",
    "visualizer.start()"
   ]
  },
  {
   "cell_type": "markdown",
   "metadata": {},
   "source": [
    "While the simulation is running, you can move and zoom\n",
    "around with your mouse.\n",
    "\n",
    "**Important: closing the visualizer GUI will exit the Python session!**\n",
    "\n",
    "If the trajectory runs too quickly, try decreasing <tt>int_steps</tt>\n",
    "by a factor 10.\n",
    "\n",
    "You can try Mayavi by switching the visualizer\n",
    "to <tt>visualization.mayaviLive(system)</tt>. In Mayavi, explore\n",
    "the buttons in the toolbar to see how the graphical representation\n",
    "can be changed."
   ]
  },
  {
   "cell_type": "markdown",
   "metadata": {},
   "source": [
    "### Alternative: live visualization without plotting\n",
    "\n",
    "If live plotting is not important, the code in the previous section simplifies to:\n",
    "\n",
    "```python\n",
    "from espressomd import visualization\n",
    "from threading import Thread\n",
    "visualizer = visualization.openGLLive(system)\n",
    "\n",
    "def main():\n",
    "    for i in range(int_n_times):\n",
    "        system.integrator.run(int_steps)\n",
    "        energies[i] = (system.time, system.analysis.energy()['total'])\n",
    "        visualizer.update()\n",
    "\n",
    "system.time = 0  # reset system timer\n",
    "\n",
    "# execute main() in a secondary thread\n",
    "t = Thread(target=main)\n",
    "t.daemon = True\n",
    "t.start()\n",
    "visualizer.start()\n",
    "```"
   ]
  },
  {
   "cell_type": "markdown",
   "metadata": {},
   "source": [
    "### Alternative: live visualization only\n",
    "\n",
    "If recording the energy as a time series is not important, the code in the previous section simplifies even further:\n",
    "\n",
    "```python\n",
    "from espressomd import visualization\n",
    "visualizer = visualization.openGLLive(system)\n",
    "visualizer.run()\n",
    "```"
   ]
  },
  {
   "cell_type": "markdown",
   "metadata": {},
   "source": [
    "## Customizing the OpenGL visualizer\n",
    "\n",
    "Visualization of more advanced features of **ESPResSo** is also possible\n",
    "(e.g. bonds, constraints, lattice-Boltzmann) with the OpenGL visualizer.\n",
    "There are a number of optional keywords that can be used to specify the\n",
    "appearance of the visualization, they are simply stated after\n",
    " <tt>system</tt> when creating the visualizer instance.\n",
    "See the following examples:\n",
    "\n",
    "```python\n",
    "# Enables particle dragging via mouse:\n",
    "visualizer = visualization.openGLLive(system, drag_enabled=True)\n",
    "\n",
    "# Use a white background:\n",
    "visualizer = visualization.openGLLive(system, background_color=[1, 1, 1])\n",
    "\n",
    "# Use red color for all (uncharged) particles\n",
    "visualizer = visualization.openGLLive(system, particle_type_colors=[[1, 0, 0]])\n",
    "```\n",
    "\n",
    "The visualizer options are stored in the dict <tt>visualizer.specs</tt>.\n",
    "The following snippet prints out the current configuration nicely:\n",
    "\n",
    "```python\n",
    "for k in sorted(visualizer.specs.keys(), key=lambda s: s.lower()):\n",
    "    print(\"{:30}  {}\".format(k, visualizer.specs[k]))\n",
    "```\n",
    "\n",
    "All keywords are explained in the Online Documentation at\n",
    "http://espressomd.org/html/doc/visualization.html#opengl-visualizer.\n",
    "Specific visualization examples for **ESPResSo** can be found in\n",
    "the <tt>/samples</tt> folder. You may need to recompile **ESPResSo**\n",
    "with the required features used in the examples."
   ]
  }
 ],
 "metadata": {
  "kernelspec": {
   "display_name": "Python 3",
   "language": "python",
   "name": "python3"
  },
  "language_info": {
   "codemirror_mode": {
    "name": "ipython",
    "version": 3
   },
   "file_extension": ".py",
   "mimetype": "text/x-python",
   "name": "python",
   "nbconvert_exporter": "python",
   "pygments_lexer": "ipython3",
   "version": "3.7.3"
  }
 },
 "nbformat": 4,
 "nbformat_minor": 1
}
